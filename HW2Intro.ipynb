{
 "cells": [
  {
   "cell_type": "markdown",
   "metadata": {},
   "source": [
    "The second homework contains three parts. All the required data and code for this homework can be downloaded from [this link](https://github.com/qiuwch/Stat271HWFall15/archive/master.zip)\n",
    "\n",
    "1. [Statistical Edge Detection](3b.Statistical Edge Detection.ipynb)\n",
    "2. [Gibbs Sampling](4a.Gibbs Sampling.ipynb)\n",
    "3. [Learn a Sparse Code for Natural Images](Sparse.ipynb)"
   ]
  },
  {
   "cell_type": "markdown",
   "metadata": {
    "collapsed": true
   },
   "source": [
    "Note: Part3 contains a few computational heavy experiment. Please start it early and give your computer enough time to run it.\n",
    "\n",
    "For **part3** we encourage you to work it as a team with no more than three members. It is challenging for you to work it alone and we encourage people with technical background and theoratical background to team up together. \n",
    "\n",
    "If you have difficulty in finding a team, here is a spreadsheet in which you can put your name. [Stat271 Homework2 Team Signup](https://docs.google.com/spreadsheets/d/1wtTDNp3Gbet7NsdFK_XpCbjggJPEncVoqLsFRamtlsE/edit?usp=sharing). When submiting the report, please specify your contribution in the team.\n"
   ]
  },
  {
   "cell_type": "code",
   "execution_count": null,
   "metadata": {
    "collapsed": true
   },
   "outputs": [],
   "source": []
  }
 ],
 "metadata": {
  "kernelspec": {
   "display_name": "Python 2",
   "language": "python",
   "name": "python2"
  },
  "language_info": {
   "codemirror_mode": {
    "name": "ipython",
    "version": 2
   },
   "file_extension": ".py",
   "mimetype": "text/x-python",
   "name": "python",
   "nbconvert_exporter": "python",
   "pygments_lexer": "ipython2",
   "version": "2.7.10"
  }
 },
 "nbformat": 4,
 "nbformat_minor": 0
}
