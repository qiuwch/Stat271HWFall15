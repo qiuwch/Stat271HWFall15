{
 "cells": [
  {
   "cell_type": "markdown",
   "metadata": {},
   "source": [
    "# Stat 271 Homework 3"
   ]
  },
  {
   "cell_type": "markdown",
   "metadata": {},
   "source": [
    "In this homework, you will train a deep convolutional neuronal network to recognize digits. \n",
    "\n",
    "Deep convolutional neuronal network (CNN) was originally invented in 1990s, but popularized these years by the [success](http://papers.nips.cc/paper/4824-imagenet-classification-w) in [ImageNet challenge](http://image-net.org/challenges/LSVRC/2015/). Training a model for ImageNet will take several days with powerful GPUs. So here we will do a similar but much simpler task. In this task you will use a specific network structure called [LeNet](http://yann.lecun.com/exdb/publis/pdf/lecun-01a.pdf) to do digit classification. It is originally designed by Yann Lecun, a pioneer for using CNN. The network will be trained on [MNIST dataset](https://en.wikipedia.org/wiki/MNIST_database)"
   ]
  },
  {
   "cell_type": "markdown",
   "metadata": {},
   "source": [
    "This task consists:\n",
    "1. Train a deep convolutional neuron network on MNIST dataset with a deep learning framework you choose.\n",
    "2. Use trained model to do digit classification. In your report, include some digit images and their classification result. Show some misclassified digits.\n",
    "3. Include the network structure used for training in the report. Plot the train/test error over iteration.\n",
    "4. In the full MNIST dataset, there are around 6000 training images for each digit. Now you need to use a subset for training. Change the number of training images for each digit to 1, 10, 100, 1000 and all images. Use the same test set and plot the train/test error over number of training images."
   ]
  },
  {
   "cell_type": "markdown",
   "metadata": {},
   "source": [
    "# The choice of deep learning framework\n",
    "\n",
    "It is tedious to write a CNN from scratch. But there are many frameworks to help us design a neural network. The framework can provide abstraction of layers, stochastic gradient solver, etc. The workload is simplified to just define a network structure with the help of a framework. \n",
    "\n",
    "There are a wide variety of choices for deep learning frameworks. You are free to choose whatever you want and it is highly recommended to pick the one popular in your area. Here to name a few: \n",
    "\n",
    "- [matconvnet](http://www.vlfeat.org/matconvnet/) A simple implementation with good matlab support\n",
    "- [caffe](http://caffe.berkeleyvision.org) The most popular framework for computer vision\n",
    "- [tensorflow](http://www.tensorflow.org/) \n",
    "- [theano](http://deeplearning.net/software/theano/) \n",
    "- [torch](http://torch.ch) \n",
    "\n",
    "Almost all frameworks provide a tutorial to teach how to train a LeNet on MNIST dataset (If MNIST tutorial is not provided in the framework you want to learn, please let [me](mailto:qiuwch@gmail.com) know). Here are the tutorial links for the frameworks mentioned above. [MatConvNet](http://www.vlfeat.org/matconvnet/training/) [Caffe(Bash version)](http://caffe.berkeleyvision.org/gathered/examples/mnist.html) [Caffe(Python version)](http://nbviewer.ipython.org/github/BVLC/caffe/blob/master/examples/01-learning-lenet.ipynb) [Theano](http://deeplearning.net/tutorial/lenet.html) [Torch](https://github.com/torch/tutorials/blob/master/A_datasets/mnist.lua).\n"
   ]
  },
  {
   "cell_type": "markdown",
   "metadata": {},
   "source": [
    "Notice:\n",
    "1. Due to the large variety between different frameworks, TA may not be able to answer questions related to installation and usage of a specific framwork. Please read the requirement of programming language and operation system before you begin. If you are comfortable with MATLAB, the **matconvnet** should be the easist option for this task.\n",
    "2. If you are an advanced user of deep learning, this task may seem too easy for you. In this case, you can contact Prof. Yuille to propose a different problem you are interested in."
   ]
  },
  {
   "cell_type": "code",
   "execution_count": null,
   "metadata": {
    "collapsed": true
   },
   "outputs": [],
   "source": []
  }
 ],
 "metadata": {
  "kernelspec": {
   "display_name": "Python 2",
   "language": "python",
   "name": "python2"
  },
  "language_info": {
   "codemirror_mode": {
    "name": "ipython",
    "version": 2
   },
   "file_extension": ".py",
   "mimetype": "text/x-python",
   "name": "python",
   "nbconvert_exporter": "python",
   "pygments_lexer": "ipython2",
   "version": "2.7.10"
  }
 },
 "nbformat": 4,
 "nbformat_minor": 0
}
