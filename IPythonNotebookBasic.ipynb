{
 "cells": [
  {
   "cell_type": "markdown",
   "metadata": {},
   "source": [
    "## What's IPython notebook (also called Jupyter notebook)?\n",
    "\n",
    "\"The IPython Notebook is a web-based interactive computational environment where you can combine code execution, text, mathematics, plots and rich media into a single document\" - [ipython.org](http://ipython.org/notebook.html)\n",
    "\n",
    "In IPython Notebook, you can use python code to perform various computations."
   ]
  },
  {
   "cell_type": "markdown",
   "metadata": {},
   "source": [
    "## Demos of IPython notebook"
   ]
  },
  {
   "cell_type": "markdown",
   "metadata": {},
   "source": [
    "Here are some demos to show how the notebook works\n",
    "\n",
    "1. A short youtube video of the basic features of a notebook. See beblow.\n",
    "2. An online demo in Nature's website. Here is the [demo](http://www.nature.com/news/ipython-interactive-demo-7.21492?article=1.16261) and related [article](http://www.nature.com/news/interactive-notebooks-sharing-the-code-1.16261).  \n",
    "    In this demo, you can play with a notebook without installing it on your computer. "
   ]
  },
  {
   "cell_type": "code",
   "execution_count": 4,
   "metadata": {
    "collapsed": false
   },
   "outputs": [
    {
     "data": {
      "text/html": [
       "\n",
       "        <iframe\n",
       "            width=\"400\"\n",
       "            height=\"300\"\n",
       "            src=\"https://www.youtube.com/embed/H6dLGQw9yFQ\"\n",
       "            frameborder=\"0\"\n",
       "            allowfullscreen\n",
       "        ></iframe>\n",
       "        "
      ],
      "text/plain": [
       "<IPython.lib.display.YouTubeVideo at 0x10c2f17d0>"
      ]
     },
     "execution_count": 4,
     "metadata": {},
     "output_type": "execute_result"
    }
   ],
   "source": [
    "from IPython.display import YouTubeVideo\n",
    "YouTubeVideo('H6dLGQw9yFQ') # Click full screen, if too small"
   ]
  },
  {
   "cell_type": "markdown",
   "metadata": {},
   "source": [
    "# Installation"
   ]
  },
  {
   "cell_type": "markdown",
   "metadata": {},
   "source": [
    "Here's a very brief installation guide. If it's not detailed enough, check the instruction from the [official website](http://ipython.org/notebook.html), google it, or contact [qiuwch@gmail.com](qiuwch@gmail.com) for help.\n",
    "\n",
    "**Windows:**  \n",
    "The simpliest way is to install Anaconda (a python distribution for scientific computation).  \n",
    "https://store.continuum.io/cshop/anaconda/\n",
    "\n",
    "**Linux/Mac:**\n",
    "1. Install pip with package manager (for ubuntu, it's **apt-get install pip**).\n",
    "2. Use pip to install dependencies (ipython, numpy, scipy, etc.)   \n",
    "**pip install ipython numpy scipy**\n",
    "3. In terminal, change directory to where contains the ipynb file. Then use **ipython notebook** to launch ipython notebook.\n",
    "\n",
    "**NOTE:** Installation of ipython notebook should not take you too much time. If you have difficulty with installation and stuck here, contact qiuwch@gmail.com for help and feedback."
   ]
  },
  {
   "cell_type": "markdown",
   "metadata": {},
   "source": [
    "# Usage"
   ]
  },
  {
   "cell_type": "markdown",
   "metadata": {},
   "source": [
    "If you have programming experience with a programming language like C, MATLAB, R. Python should be easy to grasp.\n",
    "You can find a lot of tutorials on the web.\n",
    "\n",
    "Here is a video tutorial to show how to use python in IPython notebook. The videos 1-5 (skip 2) are enough for this course. It's suitable for beginner **without** python knowledge. \n",
    "\n",
    "[Video Link](https://www.youtube.com/watch?v=R6Sh58B3cOE&list=PLRJx8WOUx5Xd3_dgw5xRmABUd8MWdsA_C&index=2)"
   ]
  },
  {
   "cell_type": "markdown",
   "metadata": {},
   "source": [
    "**If you found a good tutorial for beginner, please send an email to qiuwch@gmail.com. I can help share with others. Thanks.**"
   ]
  }
 ],
 "metadata": {
  "kernelspec": {
   "display_name": "Python 2",
   "language": "python",
   "name": "python2"
  },
  "language_info": {
   "codemirror_mode": {
    "name": "ipython",
    "version": 2
   },
   "file_extension": ".py",
   "mimetype": "text/x-python",
   "name": "python",
   "nbconvert_exporter": "python",
   "pygments_lexer": "ipython2",
   "version": "2.7.9"
  }
 },
 "nbformat": 4,
 "nbformat_minor": 0
}
